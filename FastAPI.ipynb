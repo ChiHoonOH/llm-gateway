{
 "cells": [
  {
   "cell_type": "code",
   "execution_count": 6,
   "id": "baa31dfc-b572-4850-9a77-f7340da4245b",
   "metadata": {},
   "outputs": [],
   "source": [
    "import sys"
   ]
  },
  {
   "cell_type": "markdown",
   "id": "5ee6cc68-da3a-4c7c-8902-ca52cedd9734",
   "metadata": {},
   "source": [
    "# 참조 url https://lsjsj92.tistory.com/648"
   ]
  },
  {
   "cell_type": "code",
   "execution_count": 5,
   "id": "b54d6545-32f5-4e92-aec1-28b8f1f10418",
   "metadata": {},
   "outputs": [
    {
     "name": "stdout",
     "output_type": "stream",
     "text": [
      "Collecting fastapi[all]\n",
      "  Downloading fastapi-0.115.12-py3-none-any.whl.metadata (27 kB)\n",
      "Collecting starlette<0.47.0,>=0.40.0 (from fastapi[all])\n",
      "  Downloading starlette-0.44.0-py3-none-any.whl.metadata (6.3 kB)\n",
      "Collecting pydantic!=1.8,!=1.8.1,!=2.0.0,!=2.0.1,!=2.1.0,<3.0.0,>=1.7.4 (from fastapi[all])\n",
      "  Downloading pydantic-2.10.6-py3-none-any.whl.metadata (30 kB)\n",
      "Requirement already satisfied: typing-extensions>=4.8.0 in c:\\users\\pkrng\\desktop\\재취업준비\\공부\\torch_test\\lib\\site-packages (from fastapi[all]) (4.12.2)\n",
      "Collecting fastapi-cli>=0.0.5 (from fastapi-cli[standard]>=0.0.5; extra == \"all\"->fastapi[all])\n",
      "  Downloading fastapi_cli-0.0.7-py3-none-any.whl.metadata (6.2 kB)\n",
      "Requirement already satisfied: httpx>=0.23.0 in c:\\users\\pkrng\\desktop\\재취업준비\\공부\\torch_test\\lib\\site-packages (from fastapi[all]) (0.27.2)\n",
      "Collecting jinja2>=3.1.5 (from fastapi[all])\n",
      "  Downloading jinja2-3.1.6-py3-none-any.whl.metadata (2.9 kB)\n",
      "Collecting python-multipart>=0.0.18 (from fastapi[all])\n",
      "  Downloading python_multipart-0.0.20-py3-none-any.whl.metadata (1.8 kB)\n",
      "Requirement already satisfied: itsdangerous>=1.1.0 in c:\\users\\pkrng\\desktop\\재취업준비\\공부\\torch_test\\lib\\site-packages (from fastapi[all]) (2.2.0)\n",
      "Requirement already satisfied: pyyaml>=5.3.1 in c:\\users\\pkrng\\desktop\\재취업준비\\공부\\torch_test\\lib\\site-packages (from fastapi[all]) (6.0.2)\n",
      "Collecting ujson!=4.0.2,!=4.1.0,!=4.2.0,!=4.3.0,!=5.0.0,!=5.1.0,>=4.0.1 (from fastapi[all])\n",
      "  Downloading ujson-5.10.0-cp38-cp38-win_amd64.whl.metadata (9.5 kB)\n",
      "Collecting orjson>=3.2.1 (from fastapi[all])\n",
      "  Downloading orjson-3.10.15-cp38-cp38-win_amd64.whl.metadata (42 kB)\n",
      "Collecting email-validator>=2.0.0 (from fastapi[all])\n",
      "  Downloading email_validator-2.2.0-py3-none-any.whl.metadata (25 kB)\n",
      "Collecting uvicorn>=0.12.0 (from uvicorn[standard]>=0.12.0; extra == \"all\"->fastapi[all])\n",
      "  Downloading uvicorn-0.33.0-py3-none-any.whl.metadata (6.6 kB)\n",
      "Collecting pydantic-settings>=2.0.0 (from fastapi[all])\n",
      "  Downloading pydantic_settings-2.8.1-py3-none-any.whl.metadata (3.5 kB)\n",
      "Collecting pydantic-extra-types>=2.0.0 (from fastapi[all])\n",
      "  Downloading pydantic_extra_types-2.10.4-py3-none-any.whl.metadata (3.9 kB)\n",
      "Collecting dnspython>=2.0.0 (from email-validator>=2.0.0->fastapi[all])\n",
      "  Downloading dnspython-2.6.1-py3-none-any.whl.metadata (5.8 kB)\n",
      "Requirement already satisfied: idna>=2.0.0 in c:\\users\\pkrng\\desktop\\재취업준비\\공부\\torch_test\\lib\\site-packages (from email-validator>=2.0.0->fastapi[all]) (3.10)\n",
      "Collecting typer>=0.12.3 (from fastapi-cli>=0.0.5->fastapi-cli[standard]>=0.0.5; extra == \"all\"->fastapi[all])\n",
      "  Downloading typer-0.15.3-py3-none-any.whl.metadata (15 kB)\n",
      "Collecting rich-toolkit>=0.11.1 (from fastapi-cli>=0.0.5->fastapi-cli[standard]>=0.0.5; extra == \"all\"->fastapi[all])\n",
      "  Downloading rich_toolkit-0.14.5-py3-none-any.whl.metadata (999 bytes)\n",
      "Requirement already satisfied: anyio in c:\\users\\pkrng\\desktop\\재취업준비\\공부\\torch_test\\lib\\site-packages (from httpx>=0.23.0->fastapi[all]) (4.5.0)\n",
      "Requirement already satisfied: certifi in c:\\users\\pkrng\\desktop\\재취업준비\\공부\\torch_test\\lib\\site-packages (from httpx>=0.23.0->fastapi[all]) (2024.8.30)\n",
      "Requirement already satisfied: httpcore==1.* in c:\\users\\pkrng\\desktop\\재취업준비\\공부\\torch_test\\lib\\site-packages (from httpx>=0.23.0->fastapi[all]) (1.0.5)\n",
      "Requirement already satisfied: sniffio in c:\\users\\pkrng\\desktop\\재취업준비\\공부\\torch_test\\lib\\site-packages (from httpx>=0.23.0->fastapi[all]) (1.3.1)\n",
      "Requirement already satisfied: h11<0.15,>=0.13 in c:\\users\\pkrng\\desktop\\재취업준비\\공부\\torch_test\\lib\\site-packages (from httpcore==1.*->httpx>=0.23.0->fastapi[all]) (0.14.0)\n",
      "Requirement already satisfied: MarkupSafe>=2.0 in c:\\users\\pkrng\\desktop\\재취업준비\\공부\\torch_test\\lib\\site-packages (from jinja2>=3.1.5->fastapi[all]) (2.1.5)\n",
      "Collecting annotated-types>=0.6.0 (from pydantic!=1.8,!=1.8.1,!=2.0.0,!=2.0.1,!=2.1.0,<3.0.0,>=1.7.4->fastapi[all])\n",
      "  Downloading annotated_types-0.7.0-py3-none-any.whl.metadata (15 kB)\n",
      "Collecting pydantic-core==2.27.2 (from pydantic!=1.8,!=1.8.1,!=2.0.0,!=2.0.1,!=2.1.0,<3.0.0,>=1.7.4->fastapi[all])\n",
      "  Downloading pydantic_core-2.27.2-cp38-cp38-win_amd64.whl.metadata (6.7 kB)\n",
      "Requirement already satisfied: python-dotenv>=0.21.0 in c:\\users\\pkrng\\desktop\\재취업준비\\공부\\torch_test\\lib\\site-packages (from pydantic-settings>=2.0.0->fastapi[all]) (1.0.1)\n",
      "Requirement already satisfied: click>=7.0 in c:\\users\\pkrng\\desktop\\재취업준비\\공부\\torch_test\\lib\\site-packages (from uvicorn>=0.12.0->uvicorn[standard]>=0.12.0; extra == \"all\"->fastapi[all]) (8.1.8)\n",
      "Requirement already satisfied: colorama>=0.4 in c:\\users\\pkrng\\desktop\\재취업준비\\공부\\torch_test\\lib\\site-packages (from uvicorn[standard]>=0.12.0; extra == \"all\"->fastapi[all]) (0.4.6)\n",
      "Collecting httptools>=0.6.3 (from uvicorn[standard]>=0.12.0; extra == \"all\"->fastapi[all])\n",
      "  Downloading httptools-0.6.4-cp38-cp38-win_amd64.whl.metadata (3.7 kB)\n",
      "Collecting watchfiles>=0.13 (from uvicorn[standard]>=0.12.0; extra == \"all\"->fastapi[all])\n",
      "  Downloading watchfiles-0.24.0-cp38-none-win_amd64.whl.metadata (5.0 kB)\n",
      "Requirement already satisfied: websockets>=10.4 in c:\\users\\pkrng\\desktop\\재취업준비\\공부\\torch_test\\lib\\site-packages (from uvicorn[standard]>=0.12.0; extra == \"all\"->fastapi[all]) (10.4)\n",
      "Requirement already satisfied: exceptiongroup>=1.0.2 in c:\\users\\pkrng\\desktop\\재취업준비\\공부\\torch_test\\lib\\site-packages (from anyio->httpx>=0.23.0->fastapi[all]) (1.2.2)\n",
      "Collecting rich>=13.7.1 (from rich-toolkit>=0.11.1->fastapi-cli>=0.0.5->fastapi-cli[standard]>=0.0.5; extra == \"all\"->fastapi[all])\n",
      "  Downloading rich-14.0.0-py3-none-any.whl.metadata (18 kB)\n",
      "Collecting shellingham>=1.3.0 (from typer>=0.12.3->fastapi-cli>=0.0.5->fastapi-cli[standard]>=0.0.5; extra == \"all\"->fastapi[all])\n",
      "  Downloading shellingham-1.5.4-py2.py3-none-any.whl.metadata (3.5 kB)\n",
      "Collecting markdown-it-py>=2.2.0 (from rich>=13.7.1->rich-toolkit>=0.11.1->fastapi-cli>=0.0.5->fastapi-cli[standard]>=0.0.5; extra == \"all\"->fastapi[all])\n",
      "  Downloading markdown_it_py-3.0.0-py3-none-any.whl.metadata (6.9 kB)\n",
      "Requirement already satisfied: pygments<3.0.0,>=2.13.0 in c:\\users\\pkrng\\desktop\\재취업준비\\공부\\torch_test\\lib\\site-packages (from rich>=13.7.1->rich-toolkit>=0.11.1->fastapi-cli>=0.0.5->fastapi-cli[standard]>=0.0.5; extra == \"all\"->fastapi[all]) (2.18.0)\n",
      "Collecting mdurl~=0.1 (from markdown-it-py>=2.2.0->rich>=13.7.1->rich-toolkit>=0.11.1->fastapi-cli>=0.0.5->fastapi-cli[standard]>=0.0.5; extra == \"all\"->fastapi[all])\n",
      "  Downloading mdurl-0.1.2-py3-none-any.whl.metadata (1.6 kB)\n",
      "Downloading email_validator-2.2.0-py3-none-any.whl (33 kB)\n",
      "Downloading fastapi_cli-0.0.7-py3-none-any.whl (10 kB)\n",
      "Downloading jinja2-3.1.6-py3-none-any.whl (134 kB)\n",
      "Downloading orjson-3.10.15-cp38-cp38-win_amd64.whl (133 kB)\n",
      "Downloading pydantic-2.10.6-py3-none-any.whl (431 kB)\n",
      "Downloading pydantic_core-2.27.2-cp38-cp38-win_amd64.whl (2.0 MB)\n",
      "   ---------------------------------------- 0.0/2.0 MB ? eta -:--:--\n",
      "   ----- ---------------------------------- 0.3/2.0 MB ? eta -:--:--\n",
      "   ---------- ----------------------------- 0.5/2.0 MB 1.9 MB/s eta 0:00:01\n",
      "   --------------- ------------------------ 0.8/2.0 MB 2.1 MB/s eta 0:00:01\n",
      "   --------------------- ------------------ 1.0/2.0 MB 1.7 MB/s eta 0:00:01\n",
      "   -------------------------- ------------- 1.3/2.0 MB 1.4 MB/s eta 0:00:01\n",
      "   ------------------------------------- -- 1.8/2.0 MB 1.5 MB/s eta 0:00:01\n",
      "   ---------------------------------------- 2.0/2.0 MB 1.5 MB/s eta 0:00:00\n",
      "Downloading pydantic_extra_types-2.10.4-py3-none-any.whl (37 kB)\n",
      "Downloading pydantic_settings-2.8.1-py3-none-any.whl (30 kB)\n",
      "Downloading python_multipart-0.0.20-py3-none-any.whl (24 kB)\n",
      "Downloading starlette-0.44.0-py3-none-any.whl (73 kB)\n",
      "Downloading ujson-5.10.0-cp38-cp38-win_amd64.whl (42 kB)\n",
      "Downloading uvicorn-0.33.0-py3-none-any.whl (62 kB)\n",
      "Downloading fastapi-0.115.12-py3-none-any.whl (95 kB)\n",
      "Downloading annotated_types-0.7.0-py3-none-any.whl (13 kB)\n",
      "Downloading dnspython-2.6.1-py3-none-any.whl (307 kB)\n",
      "Downloading httptools-0.6.4-cp38-cp38-win_amd64.whl (89 kB)\n",
      "Downloading rich_toolkit-0.14.5-py3-none-any.whl (24 kB)\n",
      "Downloading typer-0.15.3-py3-none-any.whl (45 kB)\n",
      "Downloading watchfiles-0.24.0-cp38-none-win_amd64.whl (277 kB)\n",
      "Downloading rich-14.0.0-py3-none-any.whl (243 kB)\n",
      "Downloading shellingham-1.5.4-py2.py3-none-any.whl (9.8 kB)\n",
      "Downloading markdown_it_py-3.0.0-py3-none-any.whl (87 kB)\n",
      "Downloading mdurl-0.1.2-py3-none-any.whl (10.0 kB)\n",
      "Installing collected packages: ujson, shellingham, python-multipart, pydantic-core, orjson, mdurl, jinja2, httptools, dnspython, annotated-types, watchfiles, uvicorn, starlette, pydantic, markdown-it-py, email-validator, rich, pydantic-settings, pydantic-extra-types, fastapi, typer, rich-toolkit, fastapi-cli\n",
      "  Attempting uninstall: jinja2\n",
      "    Found existing installation: Jinja2 3.1.4\n",
      "    Uninstalling Jinja2-3.1.4:\n",
      "      Successfully uninstalled Jinja2-3.1.4\n",
      "Successfully installed annotated-types-0.7.0 dnspython-2.6.1 email-validator-2.2.0 fastapi-0.115.12 fastapi-cli-0.0.7 httptools-0.6.4 jinja2-3.1.6 markdown-it-py-3.0.0 mdurl-0.1.2 orjson-3.10.15 pydantic-2.10.6 pydantic-core-2.27.2 pydantic-extra-types-2.10.4 pydantic-settings-2.8.1 python-multipart-0.0.20 rich-14.0.0 rich-toolkit-0.14.5 shellingham-1.5.4 starlette-0.44.0 typer-0.15.3 ujson-5.10.0 uvicorn-0.33.0 watchfiles-0.24.0\n"
     ]
    },
    {
     "name": "stderr",
     "output_type": "stream",
     "text": [
      "\n",
      "[notice] A new release of pip is available: 24.2 -> 25.0.1\n",
      "[notice] To update, run: python.exe -m pip install --upgrade pip\n"
     ]
    }
   ],
   "source": [
    "!{sys.executable} -m pip install \"fastapi[all]\""
   ]
  },
  {
   "cell_type": "code",
   "execution_count": 7,
   "id": "5c3718ce-4bc5-4fad-9814-1d2461fadeb9",
   "metadata": {},
   "outputs": [
    {
     "name": "stdout",
     "output_type": "stream",
     "text": [
      "Requirement already satisfied: pydantic in c:\\users\\pkrng\\desktop\\재취업준비\\공부\\torch_test\\lib\\site-packages (2.10.6)\n",
      "Requirement already satisfied: annotated-types>=0.6.0 in c:\\users\\pkrng\\desktop\\재취업준비\\공부\\torch_test\\lib\\site-packages (from pydantic) (0.7.0)\n",
      "Requirement already satisfied: pydantic-core==2.27.2 in c:\\users\\pkrng\\desktop\\재취업준비\\공부\\torch_test\\lib\\site-packages (from pydantic) (2.27.2)\n",
      "Requirement already satisfied: typing-extensions>=4.12.2 in c:\\users\\pkrng\\desktop\\재취업준비\\공부\\torch_test\\lib\\site-packages (from pydantic) (4.12.2)\n"
     ]
    },
    {
     "name": "stderr",
     "output_type": "stream",
     "text": [
      "\n",
      "[notice] A new release of pip is available: 24.2 -> 25.0.1\n",
      "[notice] To update, run: python.exe -m pip install --upgrade pip\n"
     ]
    }
   ],
   "source": [
    "!{sys.executable} -m pip install pydantic"
   ]
  },
  {
   "cell_type": "code",
   "execution_count": 1,
   "id": "0b64b8c8-1646-4695-8714-8305276a48bd",
   "metadata": {},
   "outputs": [
    {
     "name": "stdout",
     "output_type": "stream",
     "text": [
      "Overwriting sample2.py\n"
     ]
    }
   ],
   "source": [
    "%%writefile sample2.py \n",
    "from fastapi import FastAPI\n",
    "\n",
    "app = FastAPI()\n",
    "\n",
    "\n",
    "@app.get(\"/{name}\")\n",
    "#async def root():\n",
    "def root(name:str):\n",
    "    return {\"message\": \"not home_\"+name}\n",
    "\n",
    "\n",
    "@app.get(\"/home\")\n",
    "def home(name:str):\n",
    "    return {\"message\": \"home\"}"
   ]
  },
  {
   "cell_type": "code",
   "execution_count": null,
   "id": "45c336b7-01d2-436e-849e-278e7203fd57",
   "metadata": {},
   "outputs": [],
   "source": [
    "%autoreload 2"
   ]
  },
  {
   "cell_type": "code",
   "execution_count": 7,
   "id": "4c71a517-390f-4d00-bc5c-bbd5937a2ba6",
   "metadata": {},
   "outputs": [
    {
     "data": {
      "text/plain": [
       "{'message': 'Hello World'}"
      ]
     },
     "execution_count": 7,
     "metadata": {},
     "output_type": "execute_result"
    }
   ],
   "source": [
    "root()"
   ]
  },
  {
   "cell_type": "code",
   "execution_count": 10,
   "id": "235330af-be45-4867-a5c3-0c6d5682a287",
   "metadata": {},
   "outputs": [
    {
     "name": "stdout",
     "output_type": "stream",
     "text": [
      "Overwriting sample_llm.py\n"
     ]
    }
   ],
   "source": [
    "%%writefile sample_llm.py \n",
    "from fastapi import FastAPI\n",
    "from pydantic import BaseModel\n",
    "app = FastAPI()\n",
    "\n",
    "class PromptRequest(BaseModel):\n",
    "    prompt: str\n",
    "    temperature: float = 0.7\n",
    "    max_tokens: int = 100\n",
    "def llm(x):\n",
    "    return x\n",
    "@app.get(\"/generate/{prompt}\")\n",
    "#async def root():\n",
    "def root(prompt:str): #차후 이걸로 대체 req:PromptRequest\n",
    "    result = llm(prompt)\n",
    "    return {\"message\": result}"
   ]
  },
  {
   "cell_type": "code",
   "execution_count": null,
   "id": "53f49757-fa43-469c-90af-1168a836e829",
   "metadata": {},
   "outputs": [],
   "source": [
    "# 터미널 명령어 \n",
    "! uvicorn sample1:app --reload"
   ]
  },
  {
   "cell_type": "code",
   "execution_count": null,
   "id": "04f02556-fc60-4a9f-8105-cd9f2caaf58b",
   "metadata": {},
   "outputs": [],
   "source": [
    "http://127.0.0.1:8000/docs #Swagger UI - 설계, 빌드, 문서화, 소비"
   ]
  },
  {
   "cell_type": "code",
   "execution_count": null,
   "id": "ffb27dea-a90e-47a8-adec-3f60e56ff0f3",
   "metadata": {},
   "outputs": [],
   "source": [
    "! uvicorn sample2:app --reload"
   ]
  }
 ],
 "metadata": {
  "kernelspec": {
   "display_name": "torch_test",
   "language": "python",
   "name": "torch_test"
  },
  "language_info": {
   "codemirror_mode": {
    "name": "ipython",
    "version": 3
   },
   "file_extension": ".py",
   "mimetype": "text/x-python",
   "name": "python",
   "nbconvert_exporter": "python",
   "pygments_lexer": "ipython3",
   "version": "3.8.3"
  }
 },
 "nbformat": 4,
 "nbformat_minor": 5
}
